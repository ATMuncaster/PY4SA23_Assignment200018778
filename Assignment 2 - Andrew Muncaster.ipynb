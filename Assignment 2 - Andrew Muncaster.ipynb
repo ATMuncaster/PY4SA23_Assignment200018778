{
 "cells": [
  {
   "cell_type": "markdown",
   "id": "80e7c9d5-9cc9-445e-91f8-c0ab3d4f00ac",
   "metadata": {
    "tags": []
   },
   "source": [
    "# Lab Assignment 2 - Andrew Muncaster"
   ]
  },
  {
   "cell_type": "markdown",
   "id": "34375c8a-0691-43d3-adb5-82bd083b2730",
   "metadata": {},
   "source": [
    "**Matric No.:** 200018778 https://github.com/ATMuncaster/PY4SA23_Assignment200018778.git"
   ]
  },
  {
   "cell_type": "markdown",
   "id": "a949ccbc-01a8-441a-b4af-a6980346e97f",
   "metadata": {},
   "source": [
    "## Python Basics"
   ]
  },
  {
   "cell_type": "code",
   "execution_count": null,
   "id": "7df184ef-1305-4360-b772-5088fe682f89",
   "metadata": {},
   "outputs": [],
   "source": []
  }
 ],
 "metadata": {
  "kernelspec": {
   "display_name": "Python 3 (ipykernel)",
   "language": "python",
   "name": "python3"
  },
  "language_info": {
   "codemirror_mode": {
    "name": "ipython",
    "version": 3
   },
   "file_extension": ".py",
   "mimetype": "text/x-python",
   "name": "python",
   "nbconvert_exporter": "python",
   "pygments_lexer": "ipython3",
   "version": "3.10.9"
  }
 },
 "nbformat": 4,
 "nbformat_minor": 5
}
