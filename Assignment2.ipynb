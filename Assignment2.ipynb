{
 "cells": [
  {
   "cell_type": "markdown",
   "id": "80e7c9d5-9cc9-445e-91f8-c0ab3d4f00ac",
   "metadata": {
    "tags": []
   },
   "source": [
    "# Lab Assignment 2 - Andrew Muncaster"
   ]
  },
  {
   "cell_type": "markdown",
   "id": "34375c8a-0691-43d3-adb5-82bd083b2730",
   "metadata": {},
   "source": [
    "**Matric No.:** 200018778 "
   ]
  },
  {
   "cell_type": "markdown",
   "id": "b9a172d6-78e6-4a5f-ac9c-4b3ab55590aa",
   "metadata": {},
   "source": [
    "https://github.com/ATMuncaster/PY4SA23_Assignment200018778.git"
   ]
  },
  {
   "cell_type": "markdown",
   "id": "a949ccbc-01a8-441a-b4af-a6980346e97f",
   "metadata": {
    "tags": []
   },
   "source": [
    "# Python Basics"
   ]
  },
  {
   "cell_type": "markdown",
   "id": "2fc68d35-2112-4ee0-afe7-0a6623d711c5",
   "metadata": {
    "tags": []
   },
   "source": [
    "Task 1"
   ]
  },
  {
   "cell_type": "code",
   "execution_count": null,
   "id": "6b8ccf87-72d4-4138-97c9-c4e4efcaef1f",
   "metadata": {},
   "outputs": [],
   "source": [
    "# Create an If...Else statement that will test whether a number is divisible by three.\n",
    "\n",
    "x = 9\n",
    "if x % 3 == 0:\n",
    "    print (str(x) + \" \" + \"is divisable by 3\")\n",
    "else: print(str(x) + \" \" + \"is not divisable by 3\")"
   ]
  },
  {
   "cell_type": "markdown",
   "id": "221e7c06-7e5e-48ff-92d3-c9c741f295a4",
   "metadata": {
    "tags": []
   },
   "source": [
    "Task 2"
   ]
  },
  {
   "cell_type": "code",
   "execution_count": null,
   "id": "eeedad6d-869b-45fe-babf-969a06c07989",
   "metadata": {},
   "outputs": [],
   "source": [
    "#Create an If...Else statement that will test whether a type of fruit, represented as a text string, is in a list of acceptable fruits\n",
    "\n",
    "answer = str(input(\"Name of fruit:\"))\n",
    "if answer in [\"apple\", \"orange\", \"pear\", \"kiwi\", \"strawberry\"]:\n",
    "    print (answer + \" \" + \"is acceptable\")\n",
    "else:\n",
    "    print (answer + \" \" + \"is not acceptable\")"
   ]
  },
  {
   "cell_type": "markdown",
   "id": "3785be3f-228a-48b1-b457-4934ca759895",
   "metadata": {
    "tags": []
   },
   "source": [
    "Task 3"
   ]
  },
  {
   "cell_type": "code",
   "execution_count": null,
   "id": "b42f4cc3-84e8-4f15-92f9-26246d4e64e7",
   "metadata": {},
   "outputs": [],
   "source": [
    "#Create a function to calculate the distance between two coordinates using the haversine formula.\n",
    "#Write the following formula where the input parameters are a pair of coordinates as two lists.\n",
    "import math\n",
    "\n",
    "def distance (lat1, lon1, lat2, lon2):\n",
    "    R = 6371\n",
    "    a = ((math.sin((lat1 - lat2) / 2)) ** 2) + math.cos(lat1) * math.cos(lat2) * ((math.sin((lon1 - lon2) / 2)) ** 2)\n",
    "    c = 2 * math.atan2(math.sqrt(a), math.sqrt(1 - a))\n",
    "    d = R * c\n",
    "    return d"
   ]
  },
  {
   "cell_type": "markdown",
   "id": "30826fbf-1646-4009-b73c-3eca5586b5bb",
   "metadata": {},
   "source": [
    " ________________________________________________________________________________________"
   ]
  },
  {
   "cell_type": "markdown",
   "id": "be1bb36a-0c1d-4df3-b195-d5b9e87c1199",
   "metadata": {},
   "source": [
    "# Pandas and NumPy"
   ]
  },
  {
   "cell_type": "markdown",
   "id": "22523072-cdf7-48ef-94de-86535375c75c",
   "metadata": {
    "tags": []
   },
   "source": [
    "Question 1"
   ]
  },
  {
   "cell_type": "code",
   "execution_count": null,
   "id": "82dd414e-f48b-4a26-9eab-b506365bf6d7",
   "metadata": {},
   "outputs": [],
   "source": [
    "# How many trees are of the Quercus or Acer genus? \n",
    "import pandas as pd\n",
    "\n",
    "df = pd.read_csv('C:\\\\Users\\\\andre\\\\Documents\\\\Work\\\\GG3209GIS\\\\Assignment2\\\\PY4SA23_Assignment200018778\\\\PY4SA23_Assignment200018778\\portland_park_trees.csv')\n",
    "just_quercus = df[df[\"Genus\"]==\"Quercus\"]\n",
    "just_acer = df[df[\"Genus\"]==\"Acer\"]\n",
    "print(len(just_acer) + len(just_quercus))"
   ]
  },
  {
   "cell_type": "markdown",
   "id": "e94bb143-e0b8-4655-af65-bfd46a7390ef",
   "metadata": {},
   "source": [
    "Question 2"
   ]
  },
  {
   "cell_type": "code",
   "execution_count": null,
   "id": "d94e996e-821b-4873-bf2b-e97ed239837f",
   "metadata": {},
   "outputs": [],
   "source": [
    "# How many trees are of the Quercus or Acer genus and have a DBH larger than 50 inches?\n",
    "import pandas as pd\n",
    "\n",
    "dbh_quercus = df.query('Genus==\"Quercus\" and DBH > 50')[[\"Genus\", \"DBH\"]]\n",
    "print(len(dbh_quercus))\n",
    "\n",
    "dbh_acer = df.query('Genus==\"Acer\" and DBH >50')[[\"Genus\", \"DBH\"]]\n",
    "print(len(dbh_acer))"
   ]
  },
  {
   "cell_type": "markdown",
   "id": "6102ff7f-03ff-4edc-80f2-20558a508def",
   "metadata": {},
   "source": [
    "Question 3"
   ]
  },
  {
   "cell_type": "code",
   "execution_count": null,
   "id": "35e4d638-fc0e-49f0-aa75-faa9280a2ce6",
   "metadata": {},
   "outputs": [],
   "source": [
    "# Which genus has the highest mean DBH of the following genera: Quercus, Acer, or Fraxinus? \n",
    "import pandas as pd\n",
    "\n",
    "quercus_dbh = df.query('Genus==\"Quercus\" and DBH')\n",
    "acer_dbh = df.query('Genus==\"Acer\" and DBH')\n",
    "fraxinus_dbh = df.query('Genus==\"Fraxinus\" and DBH')\n",
    "print(quercus_dbh[\"DBH\"].mean())\n",
    "print(acer_dbh[\"DBH\"].mean())\n",
    "print(fraxinus_dbh[\"DBH\"].mean())"
   ]
  },
  {
   "cell_type": "markdown",
   "id": "67bdf2c0-f23a-41a4-8b1b-58748b6b1b70",
   "metadata": {},
   "source": [
    "Question 4"
   ]
  },
  {
   "cell_type": "code",
   "execution_count": null,
   "id": "da1acf83-885c-473d-a436-44f1d6ea7c89",
   "metadata": {},
   "outputs": [],
   "source": [
    "## Q4: How many different species of trees are recorded in the Acer genus?\n",
    "import pandas as pd\n",
    "\n",
    "acer_genus = df.query('Genus==\"Acer\"')\n",
    "acer_spec = acer_genus['Genus_spec']\n",
    "acer_spec.nunique()"
   ]
  },
  {
   "cell_type": "markdown",
   "id": "1d4ccee1-9809-4693-a651-07f13400bbfa",
   "metadata": {},
   "source": [
    "Question 5"
   ]
  },
  {
   "cell_type": "code",
   "execution_count": null,
   "id": "bf2fead4-3267-4dbe-8228-ef4b4b8480c4",
   "metadata": {},
   "outputs": [],
   "source": [
    "# The world_cities_csv was imported as a pandas dataframe:\n",
    "import pandas as pd\n",
    "cities_df = pd.read_csv('C:\\\\Users\\\\andre\\\\Documents\\\\Work\\\\GG3209GIS\\\\Assignment2\\\\PY4SA23_Assignment200018778\\\\PY4SA23_Assignment200018778\\world_cities.csv')\n",
    "print(cities_df)"
   ]
  },
  {
   "cell_type": "markdown",
   "id": "2cd012c0-e3b0-4b51-be90-66bffd17b5bf",
   "metadata": {},
   "source": [
    "Calculate a new column named \"pop_M\" (population in millions), by transforming the\n",
    "\"pop\" (population) column."
   ]
  },
  {
   "cell_type": "code",
   "execution_count": null,
   "id": "6472ee13-7737-4ecd-a3dd-f2e865cc6a67",
   "metadata": {},
   "outputs": [],
   "source": [
    "# Calculate a new column named \"pop_M\" (population in millions), by transforming the \"pop\" (population) column.\n",
    "cities_df['popM'] = cities_df['pop'] / 100000\n",
    "print(cities_df)"
   ]
  },
  {
   "cell_type": "markdown",
   "id": "0aaa919a-e862-4ddb-9f7d-54c593156d8b",
   "metadata": {
    "tags": []
   },
   "source": [
    "The new popM column has been created showing the population in millions."
   ]
  },
  {
   "cell_type": "code",
   "execution_count": null,
   "id": "30c90515-79e6-4647-b537-10120a68d360",
   "metadata": {},
   "outputs": [],
   "source": [
    "# Remove the original \"pop\" column\n",
    "cities_df.pop('pop')\n",
    "cities_df"
   ]
  },
  {
   "cell_type": "markdown",
   "id": "0691a1ec-3e7b-453f-a36a-cb8e3c269593",
   "metadata": {},
   "source": [
    "The original pop column has been deleted."
   ]
  },
  {
   "cell_type": "code",
   "execution_count": null,
   "id": "f998c76f-67ee-44d6-af48-63923b2e2dc8",
   "metadata": {},
   "outputs": [],
   "source": [
    "# Choose/subset a city that starts with the same letter as your first name\n",
    "import pandas as pd\n",
    "import numpy as np\n",
    "\n",
    "citiesonly_df = cities_df['city']\n",
    "citiesa = np.array([c for c in citiesonly_df if c[0] == \"A\"])\n",
    "print(citiesa[0:100])"
   ]
  },
  {
   "cell_type": "markdown",
   "id": "de362749-6c1b-448d-bd30-6f537c08f121",
   "metadata": {},
   "source": [
    "I can now see a selection of cities to choose from. The city that I have chosen is **Aberdeen**."
   ]
  },
  {
   "cell_type": "code",
   "execution_count": 330,
   "id": "bb94fc9a-26d2-49f1-8a03-b89dc46dd792",
   "metadata": {},
   "outputs": [
    {
     "data": {
      "text/html": [
       "<div>\n",
       "<style scoped>\n",
       "    .dataframe tbody tr th:only-of-type {\n",
       "        vertical-align: middle;\n",
       "    }\n",
       "\n",
       "    .dataframe tbody tr th {\n",
       "        vertical-align: top;\n",
       "    }\n",
       "\n",
       "    .dataframe thead th {\n",
       "        text-align: right;\n",
       "    }\n",
       "</style>\n",
       "<table border=\"1\" class=\"dataframe\">\n",
       "  <thead>\n",
       "    <tr style=\"text-align: right;\">\n",
       "      <th></th>\n",
       "      <th>city</th>\n",
       "      <th>country</th>\n",
       "      <th>lat</th>\n",
       "      <th>lon</th>\n",
       "      <th>capital</th>\n",
       "      <th>popM</th>\n",
       "    </tr>\n",
       "  </thead>\n",
       "  <tbody>\n",
       "    <tr>\n",
       "      <th>208</th>\n",
       "      <td>Aberdeen</td>\n",
       "      <td>UK</td>\n",
       "      <td>57.15</td>\n",
       "      <td>-2.1</td>\n",
       "      <td>0</td>\n",
       "      <td>1.84031</td>\n",
       "    </tr>\n",
       "  </tbody>\n",
       "</table>\n",
       "</div>"
      ],
      "text/plain": [
       "         city country    lat  lon  capital     popM\n",
       "208  Aberdeen      UK  57.15 -2.1        0  1.84031"
      ]
     },
     "execution_count": 330,
     "metadata": {},
     "output_type": "execute_result"
    }
   ],
   "source": [
    "# Subset the five biggest (i.e., largest population sizes) cities from the country where your selected city is.\n",
    "cities_df.query('city==\"Aberdeen\"')"
   ]
  },
  {
   "cell_type": "markdown",
   "id": "cdf3a528-a330-4eb6-8df0-5062cd114aa7",
   "metadata": {},
   "source": [
    "Aberdeen belongs to the country 'UK'. The UK cities were taken from the dataframe and other columns not relating to city or population were deleted."
   ]
  },
  {
   "cell_type": "code",
   "execution_count": null,
   "id": "f939bc78-691c-496b-9be6-b6e8761ba21c",
   "metadata": {},
   "outputs": [],
   "source": [
    "uk_cities_df = cities_df[cities_df['country'] == \"UK\"]\n",
    "uk_cities_df.pop('lat')\n",
    "uk_cities_df.pop('lon')\n",
    "uk_cities_df"
   ]
  },
  {
   "cell_type": "markdown",
   "id": "1d7d578a-ef4e-413d-8ce7-d37c51b90c01",
   "metadata": {},
   "source": [
    "The data was then sorted and the largest 5 populations subsetted."
   ]
  },
  {
   "cell_type": "code",
   "execution_count": 411,
   "id": "347c5041-b9fc-4716-a2ee-4aaff3db468d",
   "metadata": {},
   "outputs": [
    {
     "data": {
      "text/html": [
       "<div>\n",
       "<style scoped>\n",
       "    .dataframe tbody tr th:only-of-type {\n",
       "        vertical-align: middle;\n",
       "    }\n",
       "\n",
       "    .dataframe tbody tr th {\n",
       "        vertical-align: top;\n",
       "    }\n",
       "\n",
       "    .dataframe thead th {\n",
       "        text-align: right;\n",
       "    }\n",
       "</style>\n",
       "<table border=\"1\" class=\"dataframe\">\n",
       "  <thead>\n",
       "    <tr style=\"text-align: right;\">\n",
       "      <th></th>\n",
       "      <th>city</th>\n",
       "      <th>country</th>\n",
       "      <th>capital</th>\n",
       "      <th>popM</th>\n",
       "    </tr>\n",
       "  </thead>\n",
       "  <tbody>\n",
       "    <tr>\n",
       "      <th>21343</th>\n",
       "      <td>London</td>\n",
       "      <td>UK</td>\n",
       "      <td>1</td>\n",
       "      <td>74.89022</td>\n",
       "    </tr>\n",
       "    <tr>\n",
       "      <th>4502</th>\n",
       "      <td>Birmingham</td>\n",
       "      <td>UK</td>\n",
       "      <td>0</td>\n",
       "      <td>9.86969</td>\n",
       "    </tr>\n",
       "    <tr>\n",
       "      <th>12618</th>\n",
       "      <td>Glasgow</td>\n",
       "      <td>UK</td>\n",
       "      <td>0</td>\n",
       "      <td>6.07192</td>\n",
       "    </tr>\n",
       "    <tr>\n",
       "      <th>21164</th>\n",
       "      <td>Liverpool</td>\n",
       "      <td>UK</td>\n",
       "      <td>0</td>\n",
       "      <td>4.68584</td>\n",
       "    </tr>\n",
       "    <tr>\n",
       "      <th>20526</th>\n",
       "      <td>Leeds</td>\n",
       "      <td>UK</td>\n",
       "      <td>0</td>\n",
       "      <td>4.57875</td>\n",
       "    </tr>\n",
       "  </tbody>\n",
       "</table>\n",
       "</div>"
      ],
      "text/plain": [
       "             city country  capital      popM\n",
       "21343      London      UK        1  74.89022\n",
       "4502   Birmingham      UK        0   9.86969\n",
       "12618     Glasgow      UK        0   6.07192\n",
       "21164   Liverpool      UK        0   4.68584\n",
       "20526       Leeds      UK        0   4.57875"
      ]
     },
     "execution_count": 411,
     "metadata": {},
     "output_type": "execute_result"
    }
   ],
   "source": [
    "uk_cities_df.sort_values(by=['popM'], ascending=False).head(5)"
   ]
  },
  {
   "cell_type": "markdown",
   "id": "b3ef9e59-ac8f-4a3e-ae1c-77f06fd585d0",
   "metadata": {},
   "source": [
    "________________________________________________________________________________________"
   ]
  },
  {
   "cell_type": "markdown",
   "id": "3e01463a-1d86-4fff-be05-64f3607a8d1e",
   "metadata": {},
   "source": [
    "# Python Data Visualisation"
   ]
  },
  {
   "cell_type": "markdown",
   "id": "d8e4677d-3e7c-4743-9f4e-8d21676e5882",
   "metadata": {
    "jp-MarkdownHeadingCollapsed": true,
    "tags": []
   },
   "source": [
    "Graph 1"
   ]
  },
  {
   "cell_type": "code",
   "execution_count": null,
   "id": "050ef984-ccfd-41f9-8e5e-8827c49b496f",
   "metadata": {},
   "outputs": [],
   "source": [
    "#Graph 1: Create a scatterplot for just trees in the Ulmus genus with DBH mapped to the x-axis and tree height mapped to the y-axis\n",
    "#(Hint: You will need to use the “Genus”, “DBH”, and “TreeHeight” attributes.). \n",
    "import pandas as pd\n",
    "import numpy as np\n",
    "import seaborn as sns\n",
    "import matplotlib.pyplot as plt\n",
    "df = pd.read_csv('C:\\\\Users\\\\andre\\\\Documents\\\\Work\\\\GG3209GIS\\\\Assignment2\\\\PY4SA23_Assignment200018778\\\\PY4SA23_Assignment200018778\\portland_park_trees.csv')\n",
    "ulmus_df = df[df[\"Genus\"]==\"Ulmus\"]\n",
    "\n",
    "sns.set(style=\"whitegrid\")\n",
    "sns.set(rc={'figure.figsize':(7,7)})\n",
    "sns.scatterplot(x=\"DBH\", y=\"TreeHeight\", data=ulmus_df)\n",
    "\n"
   ]
  },
  {
   "cell_type": "markdown",
   "id": "b64d1844-73ff-4f29-8c0f-4cb7bd426d12",
   "metadata": {},
   "source": [
    "Graph 2"
   ]
  },
  {
   "cell_type": "code",
   "execution_count": null,
   "id": "65b2bfc8-78d5-4eb5-98cb-606f5c19bfab",
   "metadata": {},
   "outputs": [],
   "source": [
    "# Create a scatterplot for just trees in the Ulmus genus with DBH mapped to the x-axis, tree height mapped to the y-axis, and tree species mapped to hue.\n",
    "\n",
    "sns.set(rc={'figure.figsize':(15,12)})\n",
    "sns.scatterplot(x=\"DBH\", y=\"TreeHeight\", hue=\"Genus_spec\", data=ulmus_df)\n",
    "plt.title(\"Ulmus Tree Height and Diameter by Species\")"
   ]
  },
  {
   "cell_type": "markdown",
   "id": "3387e116-506d-42d2-a30f-232584b299fd",
   "metadata": {},
   "source": [
    "Graph 3"
   ]
  },
  {
   "cell_type": "code",
   "execution_count": null,
   "id": "3c4bc446-d3ac-4ce2-9402-20ed157f7b51",
   "metadata": {},
   "outputs": [],
   "source": [
    "# Create a boxplot of DBH for just the Ulmus genus differentiated by species\n",
    "sns.set(rc={'figure.figsize':(20,15)})\n",
    "sns.boxplot(x=\"DBH\", y=\"Genus_spec\", hue=\"Genus_spec\", data=ulmus_df)\n",
    "plt.title(\"Diamater at Breast Height (DBH) by Ulmus Species\")"
   ]
  },
  {
   "cell_type": "markdown",
   "id": "b04a867c-8722-4d8e-b8aa-04cdd2791055",
   "metadata": {},
   "source": [
    "Graph 4"
   ]
  },
  {
   "cell_type": "code",
   "execution_count": null,
   "id": "b060349d-7aa0-4447-aec0-c712810c1cdb",
   "metadata": {},
   "outputs": [],
   "source": [
    "# Combine Graphs 1 and 3 into a single figure. Do not plot a legend for any of the graphs.\n",
    "\n",
    "plt.rcParams['figure.figsize'] = [20, 12]\n",
    "fig, axs = plt.subplots(1,2)\n",
    "axs[0].scatter(x=\"DBH\", y=\"TreeHeight\", data=ulmus_df)\n",
    "axs[1].boxplot(x=\"DBH\", y=\"Genus_spec\", hue=\"Genus_spec\", data=ulmus_df)\n",
    "plt.show()"
   ]
  },
  {
   "cell_type": "markdown",
   "id": "afd1e0b6-582a-48c1-bbd1-aeebb2fa9a33",
   "metadata": {},
   "source": [
    "____________________________________________________"
   ]
  },
  {
   "cell_type": "markdown",
   "id": "51ede65f-ea32-499b-b79e-1f0d87548384",
   "metadata": {},
   "source": [
    "# Python GeoPandas"
   ]
  },
  {
   "cell_type": "markdown",
   "id": "197127bf-1514-49e7-9200-0cfeacab145a",
   "metadata": {},
   "source": [
    "Task 1"
   ]
  },
  {
   "cell_type": "markdown",
   "id": "5e86be99-0e47-45c3-ab8b-8005e1b74edc",
   "metadata": {},
   "source": [
    "**Selected Dataset** - Ancient Woodland Inventory (Scotland)"
   ]
  },
  {
   "cell_type": "code",
   "execution_count": null,
   "id": "29803871-9496-45f2-9ce8-9db12d3625f4",
   "metadata": {},
   "outputs": [],
   "source": [
    "# Read the selected dataset as GeoPandas DataFrame\n",
    "awiscot = gpd.read_file('PY4SA23_Assignment200018778/AWI_SCOTLAND_ESRI/AWI_SCOTLAND.shp')\n",
    "awiscot.plot()"
   ]
  },
  {
   "cell_type": "markdown",
   "id": "56ab8525-7304-4bef-9e89-84bc613e5ae1",
   "metadata": {},
   "source": [
    "Task 2"
   ]
  },
  {
   "cell_type": "code",
   "execution_count": null,
   "id": "f82c0f79-6996-4b43-a93f-0c7c295058d3",
   "metadata": {},
   "outputs": [],
   "source": [
    "#Use the correct code to plot the first 5 and the last 5 sets of records in your selected dataset.\n",
    "fig, ax = plt.subplots(nrows=1, ncols=2, figsize=(20, 20))\n",
    "\n",
    "awiscot.head(5).plot(ax=ax[0])\n",
    "ax[0].set_title('First 5 records')\n",
    "\n",
    "awiscot.tail(5).plot(ax=ax[1])\n",
    "ax[1].set_title('Last 5 records')\n",
    "\n",
    "plt.show()"
   ]
  },
  {
   "cell_type": "markdown",
   "id": "090ce309-5462-4d6a-b0ff-a2d3528b5feb",
   "metadata": {},
   "source": [
    "Task 3"
   ]
  },
  {
   "cell_type": "code",
   "execution_count": null,
   "id": "b79d1b0f-de45-4f4a-b070-8ce270629942",
   "metadata": {},
   "outputs": [],
   "source": [
    "# Create a map where you can explore the selected dataset. Try to plot the map using some categorical attribute. Include a ToolTip.\n",
    "awiscot.explore(cmap='RdYlBu')"
   ]
  },
  {
   "cell_type": "markdown",
   "id": "fec24c1e-01e1-4da5-aea1-9687801fbcd3",
   "metadata": {},
   "source": [
    "Task 4"
   ]
  },
  {
   "cell_type": "code",
   "execution_count": null,
   "id": "47ba43fb-b751-48d7-b199-59436fea9c76",
   "metadata": {},
   "outputs": [],
   "source": [
    "#What is the Coordinate Reference System of the selected dataset?\n",
    "awiscot.crs"
   ]
  },
  {
   "cell_type": "markdown",
   "id": "08becb61-e399-45d9-accc-837c0d392c8e",
   "metadata": {},
   "source": [
    "The coordinate reference system of the dataset is **EPSG:27700**."
   ]
  },
  {
   "cell_type": "markdown",
   "id": "04e865ac-3810-497e-8e93-3125dabc028c",
   "metadata": {},
   "source": [
    "Task 5"
   ]
  },
  {
   "cell_type": "code",
   "execution_count": null,
   "id": "6eeff786-4143-46a9-afaf-73425e0ef626",
   "metadata": {},
   "outputs": [],
   "source": [
    "# How many features does the selected dataset contain?\n",
    "awiscot"
   ]
  },
  {
   "cell_type": "markdown",
   "id": "90763b46-ea73-4d9a-b575-f70cb51c711b",
   "metadata": {},
   "source": [
    "There are 17 features in this dataset."
   ]
  },
  {
   "cell_type": "markdown",
   "id": "c1a4a8a1-6a27-41d1-8206-8056c1c51b5e",
   "metadata": {},
   "source": [
    "Task 6"
   ]
  },
  {
   "cell_type": "code",
   "execution_count": null,
   "id": "b9e3fbcb-0645-4338-853a-ca54040a75bf",
   "metadata": {},
   "outputs": [],
   "source": [
    "# Define a sub-setting criterion to create a new geopandas dataframe where you filter the selected dataset based on a categorical attribute.\n",
    "\n",
    "awiscot_lochaber = awiscot['DISTRICT'] == 'LOCHABER'\n",
    "Lochaber_GDF = awiscot[awiscot_lochaber]\n",
    "Lochaber_GDF"
   ]
  },
  {
   "cell_type": "markdown",
   "id": "cc887cf3-440e-490c-9d7b-401fcea69d02",
   "metadata": {},
   "source": [
    "Task 7"
   ]
  },
  {
   "cell_type": "code",
   "execution_count": null,
   "id": "8cd911a4-60fd-4671-8137-1bb0b46bdeb8",
   "metadata": {},
   "outputs": [],
   "source": [
    "#Define a sub-setting criterion to create a new geopandas dataframe where you filter the selected dataset based on a numerical attribute.\n",
    "\n",
    "awiscot_large = awiscot_lochaber = awiscot['HECTARE'] > 100\n",
    "\n",
    "size_GDF = awiscot[awiscot_large]\n",
    "size_GDF"
   ]
  },
  {
   "cell_type": "markdown",
   "id": "c874d2f8-3677-4efa-abef-d5d77aa9b87e",
   "metadata": {},
   "source": [
    "Task 8"
   ]
  },
  {
   "cell_type": "code",
   "execution_count": null,
   "id": "b2c12a83-ed71-4b5d-aebd-6b4c764985b0",
   "metadata": {},
   "outputs": [],
   "source": [
    "#Plot the new/filtered geopandas dataframe using one of the attributes to create a choropleth map.\n",
    "fig, ax = plt.subplots(1, 1)\n",
    "size_GDF.plot(column='HECTARE', ax=ax, legend=True)"
   ]
  },
  {
   "cell_type": "markdown",
   "id": "5d3dbb8b-8e5a-4b6a-a60b-7e76663c15a6",
   "metadata": {},
   "source": [
    "_______________________"
   ]
  },
  {
   "cell_type": "markdown",
   "id": "f9746f49-707e-4fdc-b2e8-43cd388d4b72",
   "metadata": {},
   "source": [
    "# Python Rasterio"
   ]
  },
  {
   "cell_type": "code",
   "execution_count": 21,
   "id": "f129abce-5088-4fe4-bf5a-776be3f4d9b8",
   "metadata": {},
   "outputs": [
    {
     "data": {
      "text/plain": [
       "'C:\\\\Users\\\\andre\\\\Documents\\\\Work\\\\GG3209GIS\\\\Assignment2\\\\PY4SA23_Assignment200018778\\\\PY4SA23_Assignment200018778'"
      ]
     },
     "execution_count": 21,
     "metadata": {},
     "output_type": "execute_result"
    }
   ],
   "source": [
    "pwd"
   ]
  },
  {
   "cell_type": "markdown",
   "id": "9c7d7f98-d4fa-4c45-8db6-cc81253f9b4c",
   "metadata": {},
   "source": [
    "Task 1"
   ]
  },
  {
   "cell_type": "code",
   "execution_count": 22,
   "id": "7a6d36c1-02e9-4598-874c-971ccc86b388",
   "metadata": {},
   "outputs": [
    {
     "data": {
      "text/plain": [
       "array([[-32768, -32768, -32768, ..., -32768, -32768, -32768],\n",
       "       [-32768, -32768, -32768, ..., -32768, -32768, -32768],\n",
       "       [-32768, -32768, -32768, ..., -32768, -32768, -32768],\n",
       "       ...,\n",
       "       [-32768, -32768, -32768, ..., -32768, -32768, -32768],\n",
       "       [-32768, -32768, -32768, ..., -32768, -32768, -32768],\n",
       "       [-32768, -32768, -32768, ..., -32768, -32768, -32768]], dtype=int16)"
      ]
     },
     "execution_count": 22,
     "metadata": {},
     "output_type": "execute_result"
    }
   ],
   "source": [
    "# Task 1. Read the file as a rasterio dataset\n",
    "import rasterio as rio\n",
    "elev = rio.open('C:\\\\Users\\\\andre\\\\Documents\\\\Work\\\\GG3209GIS\\\\Assignment2\\\\PY4SA23_Assignment200018778\\\\PY4SA23_Assignment200018778\\elev.tif')\n",
    "elev_arr = elev.read(1)\n",
    "elev_arr"
   ]
  },
  {
   "cell_type": "markdown",
   "id": "453cc4ce-babb-4080-9520-8f7656bd0551",
   "metadata": {},
   "source": [
    "Task 2"
   ]
  },
  {
   "cell_type": "code",
   "execution_count": 23,
   "id": "1903a706-62cb-4268-89e6-d7d5ed5ef9cb",
   "metadata": {},
   "outputs": [
    {
     "data": {
      "text/plain": [
       "CRS.from_epsg(32617)"
      ]
     },
     "execution_count": 23,
     "metadata": {},
     "output_type": "execute_result"
    }
   ],
   "source": [
    "# What is the CRS of the dataset?\n",
    "\n",
    "elev.crs"
   ]
  },
  {
   "cell_type": "markdown",
   "id": "f3a8f8e0-1274-4613-8a33-833a3f5a3806",
   "metadata": {},
   "source": [
    "The coordinate reference system for elev.tif is **EPSG:32617**."
   ]
  },
  {
   "cell_type": "markdown",
   "id": "aa64233f-d530-4baa-b7b0-61a19a19f810",
   "metadata": {},
   "source": [
    "Task 3"
   ]
  },
  {
   "cell_type": "code",
   "execution_count": 26,
   "id": "d94509b5-1f5d-45d1-a485-1f7932409cc0",
   "metadata": {},
   "outputs": [
    {
     "name": "stdout",
     "output_type": "stream",
     "text": [
      "1\n",
      "6303\n",
      "5897\n"
     ]
    }
   ],
   "source": [
    "# Describe the raster dataset regarding the raster extent (bounds), the reference system, and how many bands are in this dataset.\n",
    "\n",
    "print(elev.count)\n",
    "print(elev.width)\n",
    "print(elev.height)"
   ]
  },
  {
   "cell_type": "code",
   "execution_count": 645,
   "id": "ecb162b4-bc35-43f4-8b2a-e674f37691ef",
   "metadata": {},
   "outputs": [
    {
     "data": {
      "text/plain": [
       "BoundingBox(left=479753.39945587853, bottom=4170823.2037591375, right=668843.3994558785, top=4347733.203759138)"
      ]
     },
     "execution_count": 645,
     "metadata": {},
     "output_type": "execute_result"
    }
   ],
   "source": [
    "elev.bounds"
   ]
  },
  {
   "cell_type": "markdown",
   "id": "29ae6051-de4f-495b-9272-a1084cce7afd",
   "metadata": {},
   "source": [
    "The bounds of the raster file are left - 479753.39945587853, bottom - 4170823.2037591375, right - 668843.3994558785, top - 4347733.203759138. The reference system is EPSG:32617. There is one band in this dataset.\n"
   ]
  },
  {
   "cell_type": "markdown",
   "id": "655cbb8a-9598-489c-a7cb-3c8c17f167f7",
   "metadata": {},
   "source": [
    "Task 4"
   ]
  },
  {
   "cell_type": "code",
   "execution_count": null,
   "id": "18da661a-8d90-4b64-93d3-644019d5d15d",
   "metadata": {},
   "outputs": [],
   "source": [
    "# Create a plot/map of the raster dataset.\n",
    "import os\n",
    "os.environ['USE_PYGEOS'] = '0'\n",
    "import geopandas\n",
    "import earthpy as et\n",
    "import earthpy.spatial as es\n",
    "import earthpy.plot as ep\n",
    "ep.plot_bands(elev_arr,\n",
    "              title=\"Digital Elevation Model (DEM)\",\n",
    "              cmap=\"gist_earth\")\n",
    "\n",
    "plt.show()"
   ]
  },
  {
   "cell_type": "markdown",
   "id": "3a0db92f-d8c4-4dc9-b378-475fe3fa8423",
   "metadata": {},
   "source": [
    "Task 5"
   ]
  },
  {
   "cell_type": "code",
   "execution_count": null,
   "id": "ea222e6f-52a1-45a6-86fc-3adaae990f68",
   "metadata": {},
   "outputs": [],
   "source": [
    "# Create Histograms from the raster\n",
    "colors_list = [\n",
    "    \"midnightblue\",\n",
    "]\n",
    "titles = [\"Ultra Blue\"]\n",
    "\n",
    "ep.hist(elev_arr, colors=colors_list, title=titles)\n",
    "plt.show()\n",
    "elev.close()"
   ]
  }
 ],
 "metadata": {
  "kernelspec": {
   "display_name": "Python 3 (ipykernel)",
   "language": "python",
   "name": "python3"
  },
  "language_info": {
   "codemirror_mode": {
    "name": "ipython",
    "version": 3
   },
   "file_extension": ".py",
   "mimetype": "text/x-python",
   "name": "python",
   "nbconvert_exporter": "python",
   "pygments_lexer": "ipython3",
   "version": "3.10.9"
  }
 },
 "nbformat": 4,
 "nbformat_minor": 5
}
